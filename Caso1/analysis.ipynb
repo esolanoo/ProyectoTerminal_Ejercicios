{
 "cells": [
  {
   "cell_type": "markdown",
   "metadata": {},
   "source": [
    "# CASO DE ESTUDIO 1\n",
    "*Case of study 1*"
   ]
  },
  {
   "cell_type": "markdown",
   "metadata": {},
   "source": [
    "## Data fetching"
   ]
  },
  {
   "cell_type": "markdown",
   "metadata": {},
   "source": [
    "### Gastos"
   ]
  },
  {
   "cell_type": "code",
   "execution_count": 220,
   "metadata": {},
   "outputs": [
    {
     "name": "stdout",
     "output_type": "stream",
     "text": [
      "<class 'pandas.core.frame.DataFrame'>\n",
      "RangeIndex: 48 entries, 0 to 47\n",
      "Data columns (total 5 columns):\n",
      " #   Column          Non-Null Count  Dtype \n",
      "---  ------          --------------  ----- \n",
      " 0   Semana          48 non-null     int64 \n",
      " 1   GastoAdwords    48 non-null     object\n",
      " 2   GastoFacebook   48 non-null     object\n",
      " 3   GastoInstagram  48 non-null     object\n",
      " 4   GastoOrganico   48 non-null     object\n",
      "dtypes: int64(1), object(4)\n",
      "memory usage: 2.0+ KB\n"
     ]
    }
   ],
   "source": [
    "import pandas as pd\n",
    "\n",
    "gastos = pd.read_csv('CasoMarketing-Gasto.csv')\n",
    "gastos.info()"
   ]
  },
  {
   "cell_type": "code",
   "execution_count": 221,
   "metadata": {},
   "outputs": [
    {
     "data": {
      "text/html": [
       "<div>\n",
       "<style scoped>\n",
       "    .dataframe tbody tr th:only-of-type {\n",
       "        vertical-align: middle;\n",
       "    }\n",
       "\n",
       "    .dataframe tbody tr th {\n",
       "        vertical-align: top;\n",
       "    }\n",
       "\n",
       "    .dataframe thead th {\n",
       "        text-align: right;\n",
       "    }\n",
       "</style>\n",
       "<table border=\"1\" class=\"dataframe\">\n",
       "  <thead>\n",
       "    <tr style=\"text-align: right;\">\n",
       "      <th></th>\n",
       "      <th>Semana</th>\n",
       "      <th>GastoAdwords</th>\n",
       "      <th>GastoFacebook</th>\n",
       "      <th>GastoInstagram</th>\n",
       "      <th>GastoOrganico</th>\n",
       "    </tr>\n",
       "  </thead>\n",
       "  <tbody>\n",
       "    <tr>\n",
       "      <th>0</th>\n",
       "      <td>1</td>\n",
       "      <td>$58,587.80</td>\n",
       "      <td>$13,166.12</td>\n",
       "      <td>$25,644.37</td>\n",
       "      <td>$0.00</td>\n",
       "    </tr>\n",
       "    <tr>\n",
       "      <th>1</th>\n",
       "      <td>2</td>\n",
       "      <td>$67,295.35</td>\n",
       "      <td>$15,130.57</td>\n",
       "      <td>$25,603.19</td>\n",
       "      <td>$0.00</td>\n",
       "    </tr>\n",
       "    <tr>\n",
       "      <th>2</th>\n",
       "      <td>3</td>\n",
       "      <td>$43,330.19</td>\n",
       "      <td>$14,983.00</td>\n",
       "      <td>$28,962.36</td>\n",
       "      <td>$0.00</td>\n",
       "    </tr>\n",
       "    <tr>\n",
       "      <th>3</th>\n",
       "      <td>4</td>\n",
       "      <td>$60,818.66</td>\n",
       "      <td>$14,294.78</td>\n",
       "      <td>$29,601.45</td>\n",
       "      <td>$0.00</td>\n",
       "    </tr>\n",
       "    <tr>\n",
       "      <th>4</th>\n",
       "      <td>5</td>\n",
       "      <td>$43,593.73</td>\n",
       "      <td>$18,685.01</td>\n",
       "      <td>$29,219.29</td>\n",
       "      <td>$0.00</td>\n",
       "    </tr>\n",
       "  </tbody>\n",
       "</table>\n",
       "</div>"
      ],
      "text/plain": [
       "   Semana GastoAdwords GastoFacebook GastoInstagram GastoOrganico\n",
       "0       1  $58,587.80    $13,166.12     $25,644.37         $0.00 \n",
       "1       2  $67,295.35    $15,130.57     $25,603.19         $0.00 \n",
       "2       3  $43,330.19    $14,983.00     $28,962.36         $0.00 \n",
       "3       4  $60,818.66    $14,294.78     $29,601.45         $0.00 \n",
       "4       5  $43,593.73    $18,685.01     $29,219.29         $0.00 "
      ]
     },
     "execution_count": 221,
     "metadata": {},
     "output_type": "execute_result"
    }
   ],
   "source": [
    "gastos.head()"
   ]
  },
  {
   "cell_type": "markdown",
   "metadata": {},
   "source": [
    "| **Column name** | **Feature description** |\n",
    "|----------------:| :--------------------- |\n",
    "| *Semana*        | Week of the data |\n",
    "| *GastoAdwords*  | Google advertisement cost |\n",
    "| *GastoFacebook* | Facebook avertisement cost |\n",
    "| *GastoInstagram*| Intsgram advertisement cost |\n",
    "| *GastoOrganico* | Company's page cost |\n",
    "\n",
    "The table must be cleaned and processed."
   ]
  },
  {
   "cell_type": "code",
   "execution_count": 222,
   "metadata": {},
   "outputs": [
    {
     "data": {
      "text/html": [
       "<div>\n",
       "<style scoped>\n",
       "    .dataframe tbody tr th:only-of-type {\n",
       "        vertical-align: middle;\n",
       "    }\n",
       "\n",
       "    .dataframe tbody tr th {\n",
       "        vertical-align: top;\n",
       "    }\n",
       "\n",
       "    .dataframe thead th {\n",
       "        text-align: right;\n",
       "    }\n",
       "</style>\n",
       "<table border=\"1\" class=\"dataframe\">\n",
       "  <thead>\n",
       "    <tr style=\"text-align: right;\">\n",
       "      <th></th>\n",
       "      <th>Semana</th>\n",
       "      <th>GastoAdwords</th>\n",
       "      <th>GastoFacebook</th>\n",
       "      <th>GastoInstagram</th>\n",
       "    </tr>\n",
       "  </thead>\n",
       "  <tbody>\n",
       "    <tr>\n",
       "      <th>0</th>\n",
       "      <td>1</td>\n",
       "      <td>58587.80</td>\n",
       "      <td>13166.12</td>\n",
       "      <td>25644.37</td>\n",
       "    </tr>\n",
       "    <tr>\n",
       "      <th>1</th>\n",
       "      <td>2</td>\n",
       "      <td>67295.35</td>\n",
       "      <td>15130.57</td>\n",
       "      <td>25603.19</td>\n",
       "    </tr>\n",
       "    <tr>\n",
       "      <th>2</th>\n",
       "      <td>3</td>\n",
       "      <td>43330.19</td>\n",
       "      <td>14983.00</td>\n",
       "      <td>28962.36</td>\n",
       "    </tr>\n",
       "    <tr>\n",
       "      <th>3</th>\n",
       "      <td>4</td>\n",
       "      <td>60818.66</td>\n",
       "      <td>14294.78</td>\n",
       "      <td>29601.45</td>\n",
       "    </tr>\n",
       "    <tr>\n",
       "      <th>4</th>\n",
       "      <td>5</td>\n",
       "      <td>43593.73</td>\n",
       "      <td>18685.01</td>\n",
       "      <td>29219.29</td>\n",
       "    </tr>\n",
       "  </tbody>\n",
       "</table>\n",
       "</div>"
      ],
      "text/plain": [
       "   Semana  GastoAdwords  GastoFacebook  GastoInstagram\n",
       "0       1      58587.80       13166.12        25644.37\n",
       "1       2      67295.35       15130.57        25603.19\n",
       "2       3      43330.19       14983.00        28962.36\n",
       "3       4      60818.66       14294.78        29601.45\n",
       "4       5      43593.73       18685.01        29219.29"
      ]
     },
     "execution_count": 222,
     "metadata": {},
     "output_type": "execute_result"
    }
   ],
   "source": [
    "gastos.drop('GastoOrganico', axis=1, inplace=True) # description specifies it is always 0\n",
    "\n",
    "to_float = lambda x: float(x.replace(',', '').replace('$', '')) if isinstance(x, str) else x\n",
    "gastos = gastos.applymap(to_float)\n",
    "gastos.set_index('Semana')\n",
    "gastos.head()"
   ]
  },
  {
   "cell_type": "markdown",
   "metadata": {},
   "source": [
    "## Operaciones\n",
    "\n",
    "All the prospects obtained from marketing"
   ]
  },
  {
   "cell_type": "code",
   "execution_count": 223,
   "metadata": {},
   "outputs": [
    {
     "data": {
      "text/html": [
       "<div>\n",
       "<style scoped>\n",
       "    .dataframe tbody tr th:only-of-type {\n",
       "        vertical-align: middle;\n",
       "    }\n",
       "\n",
       "    .dataframe tbody tr th {\n",
       "        vertical-align: top;\n",
       "    }\n",
       "\n",
       "    .dataframe thead th {\n",
       "        text-align: right;\n",
       "    }\n",
       "</style>\n",
       "<table border=\"1\" class=\"dataframe\">\n",
       "  <thead>\n",
       "    <tr style=\"text-align: right;\">\n",
       "      <th></th>\n",
       "      <th>Prospecto</th>\n",
       "      <th>Semana</th>\n",
       "      <th>Verificado</th>\n",
       "      <th>Oe</th>\n",
       "      <th>PrioridadProspecto</th>\n",
       "      <th>Canal</th>\n",
       "    </tr>\n",
       "  </thead>\n",
       "  <tbody>\n",
       "    <tr>\n",
       "      <th>0</th>\n",
       "      <td>1</td>\n",
       "      <td>1</td>\n",
       "      <td>Si</td>\n",
       "      <td>6.0</td>\n",
       "      <td>Prioridad Alta</td>\n",
       "      <td>Organico</td>\n",
       "    </tr>\n",
       "    <tr>\n",
       "      <th>1</th>\n",
       "      <td>2</td>\n",
       "      <td>1</td>\n",
       "      <td>No</td>\n",
       "      <td>NaN</td>\n",
       "      <td>Prioridad Alta</td>\n",
       "      <td>Organico</td>\n",
       "    </tr>\n",
       "    <tr>\n",
       "      <th>2</th>\n",
       "      <td>3</td>\n",
       "      <td>1</td>\n",
       "      <td>Si</td>\n",
       "      <td>5.0</td>\n",
       "      <td>Prioridad Alta</td>\n",
       "      <td>Facebook</td>\n",
       "    </tr>\n",
       "    <tr>\n",
       "      <th>3</th>\n",
       "      <td>4</td>\n",
       "      <td>1</td>\n",
       "      <td>Si</td>\n",
       "      <td>14.0</td>\n",
       "      <td>Prioridad Alta</td>\n",
       "      <td>AdWords</td>\n",
       "    </tr>\n",
       "    <tr>\n",
       "      <th>4</th>\n",
       "      <td>5</td>\n",
       "      <td>1</td>\n",
       "      <td>Si</td>\n",
       "      <td>14.0</td>\n",
       "      <td>Prioridad Alta</td>\n",
       "      <td>AdWords</td>\n",
       "    </tr>\n",
       "  </tbody>\n",
       "</table>\n",
       "</div>"
      ],
      "text/plain": [
       "   Prospecto  Semana Verificado    Oe PrioridadProspecto     Canal\n",
       "0          1       1         Si   6.0     Prioridad Alta  Organico\n",
       "1          2       1         No   NaN     Prioridad Alta  Organico\n",
       "2          3       1         Si   5.0     Prioridad Alta  Facebook\n",
       "3          4       1         Si  14.0     Prioridad Alta   AdWords\n",
       "4          5       1         Si  14.0     Prioridad Alta   AdWords"
      ]
     },
     "execution_count": 223,
     "metadata": {},
     "output_type": "execute_result"
    }
   ],
   "source": [
    "ops = pd.read_csv('CasoMarketing-Operaciones.csv')\n",
    "ops.head(5)"
   ]
  },
  {
   "cell_type": "markdown",
   "metadata": {},
   "source": [
    "| **Column name** | **Feature description** |\n",
    "|----------------:| :--------------------- |\n",
    "| *Prospecto*     | Prospect ID |\n",
    "| *Semana*        | Week of the data |\n",
    "| *Verificado*    | Wether the prospect provided his/her card information. It is the main KPI with which the marketing meassures new subscriptions |\n",
    "| *Oe*            | Time (in days) between account opening and prospect verification |\n",
    "| *PriodidadProspecto* | Priority level of the prospect based on a ML algorithm predicting the probability of the prospect becoming verified|\n",
    "| *Canal*         | Where did the costumer came from |\n",
    "\n",
    "The table must be cleaned and processed."
   ]
  },
  {
   "cell_type": "code",
   "execution_count": 224,
   "metadata": {},
   "outputs": [
    {
     "name": "stdout",
     "output_type": "stream",
     "text": [
      "['Si' 'No']\n",
      "[ 6. nan  5. 14. 15. 20.  4.  1.  9.  2. 17.  3.  7. 11.  8. 16. 18. 10.\n",
      " 21. 13. 12. 19.]\n",
      "['Prioridad Alta' 'Prioridad Baja' 'Prioridad Media']\n",
      "['Organico' 'Facebook' 'AdWords' 'Instagram']\n"
     ]
    }
   ],
   "source": [
    "for column in list(ops.columns)[2:]:\n",
    "    print(ops[column].unique())"
   ]
  },
  {
   "cell_type": "code",
   "execution_count": 225,
   "metadata": {},
   "outputs": [],
   "source": [
    "ops['Oe'].fillna(0, inplace=True) # From the unique list od values, assuming the NA are actually '0 days'"
   ]
  },
  {
   "cell_type": "code",
   "execution_count": 226,
   "metadata": {},
   "outputs": [
    {
     "data": {
      "text/plain": [
       "True"
      ]
     },
     "execution_count": 226,
     "metadata": {},
     "output_type": "execute_result"
    }
   ],
   "source": [
    "ops.shape[0]==len(ops['Prospecto'].unique()) # Check for repeated users (True if all unique)"
   ]
  },
  {
   "cell_type": "code",
   "execution_count": 227,
   "metadata": {},
   "outputs": [
    {
     "data": {
      "text/html": [
       "<div>\n",
       "<style scoped>\n",
       "    .dataframe tbody tr th:only-of-type {\n",
       "        vertical-align: middle;\n",
       "    }\n",
       "\n",
       "    .dataframe tbody tr th {\n",
       "        vertical-align: top;\n",
       "    }\n",
       "\n",
       "    .dataframe thead th {\n",
       "        text-align: right;\n",
       "    }\n",
       "</style>\n",
       "<table border=\"1\" class=\"dataframe\">\n",
       "  <thead>\n",
       "    <tr style=\"text-align: right;\">\n",
       "      <th></th>\n",
       "      <th>Semana</th>\n",
       "      <th>Verificado</th>\n",
       "      <th>Oe</th>\n",
       "      <th>PrioridadProspecto</th>\n",
       "      <th>Canal</th>\n",
       "    </tr>\n",
       "  </thead>\n",
       "  <tbody>\n",
       "    <tr>\n",
       "      <th>0</th>\n",
       "      <td>1</td>\n",
       "      <td>Si</td>\n",
       "      <td>6</td>\n",
       "      <td>Prioridad Alta</td>\n",
       "      <td>Organico</td>\n",
       "    </tr>\n",
       "    <tr>\n",
       "      <th>1</th>\n",
       "      <td>1</td>\n",
       "      <td>No</td>\n",
       "      <td>0</td>\n",
       "      <td>Prioridad Alta</td>\n",
       "      <td>Organico</td>\n",
       "    </tr>\n",
       "    <tr>\n",
       "      <th>2</th>\n",
       "      <td>1</td>\n",
       "      <td>Si</td>\n",
       "      <td>5</td>\n",
       "      <td>Prioridad Alta</td>\n",
       "      <td>Facebook</td>\n",
       "    </tr>\n",
       "    <tr>\n",
       "      <th>3</th>\n",
       "      <td>1</td>\n",
       "      <td>Si</td>\n",
       "      <td>14</td>\n",
       "      <td>Prioridad Alta</td>\n",
       "      <td>AdWords</td>\n",
       "    </tr>\n",
       "    <tr>\n",
       "      <th>4</th>\n",
       "      <td>1</td>\n",
       "      <td>Si</td>\n",
       "      <td>14</td>\n",
       "      <td>Prioridad Alta</td>\n",
       "      <td>AdWords</td>\n",
       "    </tr>\n",
       "  </tbody>\n",
       "</table>\n",
       "</div>"
      ],
      "text/plain": [
       "   Semana Verificado  Oe PrioridadProspecto     Canal\n",
       "0       1         Si   6     Prioridad Alta  Organico\n",
       "1       1         No   0     Prioridad Alta  Organico\n",
       "2       1         Si   5     Prioridad Alta  Facebook\n",
       "3       1         Si  14     Prioridad Alta   AdWords\n",
       "4       1         Si  14     Prioridad Alta   AdWords"
      ]
     },
     "execution_count": 227,
     "metadata": {},
     "output_type": "execute_result"
    }
   ],
   "source": [
    "ops.drop('Prospecto', axis=1, inplace=True) # There is no value for individual identifiers\n",
    "ops['Oe'] = ops['Oe'].apply(lambda x: int(x))\n",
    "ops.set_index('Semana')\n",
    "ops.head()"
   ]
  },
  {
   "cell_type": "markdown",
   "metadata": {},
   "source": [
    "## Join the tables"
   ]
  },
  {
   "cell_type": "code",
   "execution_count": 228,
   "metadata": {},
   "outputs": [
    {
     "data": {
      "text/html": [
       "<div>\n",
       "<style scoped>\n",
       "    .dataframe tbody tr th:only-of-type {\n",
       "        vertical-align: middle;\n",
       "    }\n",
       "\n",
       "    .dataframe tbody tr th {\n",
       "        vertical-align: top;\n",
       "    }\n",
       "\n",
       "    .dataframe thead th {\n",
       "        text-align: right;\n",
       "    }\n",
       "</style>\n",
       "<table border=\"1\" class=\"dataframe\">\n",
       "  <thead>\n",
       "    <tr style=\"text-align: right;\">\n",
       "      <th></th>\n",
       "      <th>Semana</th>\n",
       "      <th>Verificado</th>\n",
       "      <th>Oe</th>\n",
       "      <th>PrioridadProspecto</th>\n",
       "      <th>Canal</th>\n",
       "      <th>GastoAdwords</th>\n",
       "      <th>GastoFacebook</th>\n",
       "      <th>GastoInstagram</th>\n",
       "    </tr>\n",
       "  </thead>\n",
       "  <tbody>\n",
       "    <tr>\n",
       "      <th>0</th>\n",
       "      <td>1</td>\n",
       "      <td>Si</td>\n",
       "      <td>6</td>\n",
       "      <td>Prioridad Alta</td>\n",
       "      <td>Organico</td>\n",
       "      <td>58587.8</td>\n",
       "      <td>13166.12</td>\n",
       "      <td>25644.37</td>\n",
       "    </tr>\n",
       "    <tr>\n",
       "      <th>1</th>\n",
       "      <td>1</td>\n",
       "      <td>No</td>\n",
       "      <td>0</td>\n",
       "      <td>Prioridad Alta</td>\n",
       "      <td>Organico</td>\n",
       "      <td>58587.8</td>\n",
       "      <td>13166.12</td>\n",
       "      <td>25644.37</td>\n",
       "    </tr>\n",
       "    <tr>\n",
       "      <th>2</th>\n",
       "      <td>1</td>\n",
       "      <td>Si</td>\n",
       "      <td>5</td>\n",
       "      <td>Prioridad Alta</td>\n",
       "      <td>Facebook</td>\n",
       "      <td>58587.8</td>\n",
       "      <td>13166.12</td>\n",
       "      <td>25644.37</td>\n",
       "    </tr>\n",
       "    <tr>\n",
       "      <th>3</th>\n",
       "      <td>1</td>\n",
       "      <td>Si</td>\n",
       "      <td>14</td>\n",
       "      <td>Prioridad Alta</td>\n",
       "      <td>AdWords</td>\n",
       "      <td>58587.8</td>\n",
       "      <td>13166.12</td>\n",
       "      <td>25644.37</td>\n",
       "    </tr>\n",
       "    <tr>\n",
       "      <th>4</th>\n",
       "      <td>1</td>\n",
       "      <td>Si</td>\n",
       "      <td>14</td>\n",
       "      <td>Prioridad Alta</td>\n",
       "      <td>AdWords</td>\n",
       "      <td>58587.8</td>\n",
       "      <td>13166.12</td>\n",
       "      <td>25644.37</td>\n",
       "    </tr>\n",
       "  </tbody>\n",
       "</table>\n",
       "</div>"
      ],
      "text/plain": [
       "   Semana Verificado  Oe PrioridadProspecto     Canal  GastoAdwords  \\\n",
       "0       1         Si   6     Prioridad Alta  Organico       58587.8   \n",
       "1       1         No   0     Prioridad Alta  Organico       58587.8   \n",
       "2       1         Si   5     Prioridad Alta  Facebook       58587.8   \n",
       "3       1         Si  14     Prioridad Alta   AdWords       58587.8   \n",
       "4       1         Si  14     Prioridad Alta   AdWords       58587.8   \n",
       "\n",
       "   GastoFacebook  GastoInstagram  \n",
       "0       13166.12        25644.37  \n",
       "1       13166.12        25644.37  \n",
       "2       13166.12        25644.37  \n",
       "3       13166.12        25644.37  \n",
       "4       13166.12        25644.37  "
      ]
     },
     "execution_count": 228,
     "metadata": {},
     "output_type": "execute_result"
    }
   ],
   "source": [
    "data = ops.merge(gastos, on='Semana', how='inner')\n",
    "data.head()"
   ]
  }
 ],
 "metadata": {
  "kernelspec": {
   "display_name": "Python 3",
   "language": "python",
   "name": "python3"
  },
  "language_info": {
   "codemirror_mode": {
    "name": "ipython",
    "version": 3
   },
   "file_extension": ".py",
   "mimetype": "text/x-python",
   "name": "python",
   "nbconvert_exporter": "python",
   "pygments_lexer": "ipython3",
   "version": "3.11.3"
  }
 },
 "nbformat": 4,
 "nbformat_minor": 2
}
