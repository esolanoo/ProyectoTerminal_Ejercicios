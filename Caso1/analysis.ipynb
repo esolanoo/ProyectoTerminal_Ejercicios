{
 "cells": [
  {
   "cell_type": "markdown",
   "metadata": {},
   "source": [
    "# CASO DE ESTUDIO 1\n",
    "*Case of study 1*"
   ]
  },
  {
   "cell_type": "markdown",
   "metadata": {},
   "source": [
    "## Data fetching"
   ]
  },
  {
   "cell_type": "markdown",
   "metadata": {},
   "source": [
    "### Gastos"
   ]
  },
  {
   "cell_type": "code",
   "execution_count": 51,
   "metadata": {},
   "outputs": [
    {
     "name": "stdout",
     "output_type": "stream",
     "text": [
      "<class 'pandas.core.frame.DataFrame'>\n",
      "RangeIndex: 48 entries, 0 to 47\n",
      "Data columns (total 5 columns):\n",
      " #   Column          Non-Null Count  Dtype \n",
      "---  ------          --------------  ----- \n",
      " 0   Semana          48 non-null     int64 \n",
      " 1   GastoAdwords    48 non-null     object\n",
      " 2   GastoFacebook   48 non-null     object\n",
      " 3   GastoInstagram  48 non-null     object\n",
      " 4   GastoOrganico   48 non-null     object\n",
      "dtypes: int64(1), object(4)\n",
      "memory usage: 2.0+ KB\n"
     ]
    }
   ],
   "source": [
    "import pandas as pd\n",
    "\n",
    "gastos = pd.read_csv('CasoMarketing-Gasto.csv')\n",
    "gastos.info()"
   ]
  },
  {
   "cell_type": "markdown",
   "metadata": {},
   "source": [
    "| **Column name** | **Feature description** |\n",
    "|----------------:| :---------------------: |\n",
    "| *Semana*        | Week of the data |\n",
    "| *GastoAdwords*  | Google advertisement cost |\n",
    "| *GastoFacebook* | Facebook avertisement cost |\n",
    "| *GastoInstagram*| Intsgram advertisement cost |\n",
    "| *GastoOrganico* | Company's page cost |\n",
    "\n",
    "The table must be cleaned and processed."
   ]
  },
  {
   "cell_type": "code",
   "execution_count": 52,
   "metadata": {},
   "outputs": [
    {
     "data": {
      "text/html": [
       "<div>\n",
       "<style scoped>\n",
       "    .dataframe tbody tr th:only-of-type {\n",
       "        vertical-align: middle;\n",
       "    }\n",
       "\n",
       "    .dataframe tbody tr th {\n",
       "        vertical-align: top;\n",
       "    }\n",
       "\n",
       "    .dataframe thead th {\n",
       "        text-align: right;\n",
       "    }\n",
       "</style>\n",
       "<table border=\"1\" class=\"dataframe\">\n",
       "  <thead>\n",
       "    <tr style=\"text-align: right;\">\n",
       "      <th></th>\n",
       "      <th>Semana</th>\n",
       "      <th>GastoAdwords</th>\n",
       "      <th>GastoFacebook</th>\n",
       "      <th>GastoInstagram</th>\n",
       "      <th>GastoOrganico</th>\n",
       "    </tr>\n",
       "  </thead>\n",
       "  <tbody>\n",
       "    <tr>\n",
       "      <th>0</th>\n",
       "      <td>1</td>\n",
       "      <td>$58,587.80</td>\n",
       "      <td>$13,166.12</td>\n",
       "      <td>$25,644.37</td>\n",
       "      <td>$0.00</td>\n",
       "    </tr>\n",
       "    <tr>\n",
       "      <th>1</th>\n",
       "      <td>2</td>\n",
       "      <td>$67,295.35</td>\n",
       "      <td>$15,130.57</td>\n",
       "      <td>$25,603.19</td>\n",
       "      <td>$0.00</td>\n",
       "    </tr>\n",
       "    <tr>\n",
       "      <th>2</th>\n",
       "      <td>3</td>\n",
       "      <td>$43,330.19</td>\n",
       "      <td>$14,983.00</td>\n",
       "      <td>$28,962.36</td>\n",
       "      <td>$0.00</td>\n",
       "    </tr>\n",
       "    <tr>\n",
       "      <th>3</th>\n",
       "      <td>4</td>\n",
       "      <td>$60,818.66</td>\n",
       "      <td>$14,294.78</td>\n",
       "      <td>$29,601.45</td>\n",
       "      <td>$0.00</td>\n",
       "    </tr>\n",
       "    <tr>\n",
       "      <th>4</th>\n",
       "      <td>5</td>\n",
       "      <td>$43,593.73</td>\n",
       "      <td>$18,685.01</td>\n",
       "      <td>$29,219.29</td>\n",
       "      <td>$0.00</td>\n",
       "    </tr>\n",
       "  </tbody>\n",
       "</table>\n",
       "</div>"
      ],
      "text/plain": [
       "   Semana GastoAdwords GastoFacebook GastoInstagram GastoOrganico\n",
       "0       1  $58,587.80    $13,166.12     $25,644.37         $0.00 \n",
       "1       2  $67,295.35    $15,130.57     $25,603.19         $0.00 \n",
       "2       3  $43,330.19    $14,983.00     $28,962.36         $0.00 \n",
       "3       4  $60,818.66    $14,294.78     $29,601.45         $0.00 \n",
       "4       5  $43,593.73    $18,685.01     $29,219.29         $0.00 "
      ]
     },
     "execution_count": 52,
     "metadata": {},
     "output_type": "execute_result"
    }
   ],
   "source": [
    "gastos.head()"
   ]
  },
  {
   "cell_type": "code",
   "execution_count": 53,
   "metadata": {},
   "outputs": [
    {
     "data": {
      "text/html": [
       "<div>\n",
       "<style scoped>\n",
       "    .dataframe tbody tr th:only-of-type {\n",
       "        vertical-align: middle;\n",
       "    }\n",
       "\n",
       "    .dataframe tbody tr th {\n",
       "        vertical-align: top;\n",
       "    }\n",
       "\n",
       "    .dataframe thead th {\n",
       "        text-align: right;\n",
       "    }\n",
       "</style>\n",
       "<table border=\"1\" class=\"dataframe\">\n",
       "  <thead>\n",
       "    <tr style=\"text-align: right;\">\n",
       "      <th></th>\n",
       "      <th>GastoAdwords</th>\n",
       "      <th>GastoFacebook</th>\n",
       "      <th>GastoInstagram</th>\n",
       "    </tr>\n",
       "    <tr>\n",
       "      <th>Semana</th>\n",
       "      <th></th>\n",
       "      <th></th>\n",
       "      <th></th>\n",
       "    </tr>\n",
       "  </thead>\n",
       "  <tbody>\n",
       "    <tr>\n",
       "      <th>1</th>\n",
       "      <td>$58,587.80</td>\n",
       "      <td>$13,166.12</td>\n",
       "      <td>$25,644.37</td>\n",
       "    </tr>\n",
       "    <tr>\n",
       "      <th>2</th>\n",
       "      <td>$67,295.35</td>\n",
       "      <td>$15,130.57</td>\n",
       "      <td>$25,603.19</td>\n",
       "    </tr>\n",
       "    <tr>\n",
       "      <th>3</th>\n",
       "      <td>$43,330.19</td>\n",
       "      <td>$14,983.00</td>\n",
       "      <td>$28,962.36</td>\n",
       "    </tr>\n",
       "    <tr>\n",
       "      <th>4</th>\n",
       "      <td>$60,818.66</td>\n",
       "      <td>$14,294.78</td>\n",
       "      <td>$29,601.45</td>\n",
       "    </tr>\n",
       "    <tr>\n",
       "      <th>5</th>\n",
       "      <td>$43,593.73</td>\n",
       "      <td>$18,685.01</td>\n",
       "      <td>$29,219.29</td>\n",
       "    </tr>\n",
       "  </tbody>\n",
       "</table>\n",
       "</div>"
      ],
      "text/plain": [
       "       GastoAdwords GastoFacebook GastoInstagram\n",
       "Semana                                          \n",
       "1       $58,587.80    $13,166.12     $25,644.37 \n",
       "2       $67,295.35    $15,130.57     $25,603.19 \n",
       "3       $43,330.19    $14,983.00     $28,962.36 \n",
       "4       $60,818.66    $14,294.78     $29,601.45 \n",
       "5       $43,593.73    $18,685.01     $29,219.29 "
      ]
     },
     "execution_count": 53,
     "metadata": {},
     "output_type": "execute_result"
    }
   ],
   "source": [
    "gastos.set_index('Semana', inplace=True)\n",
    "gastos.drop('GastoOrganico', axis=1, inplace=True) # description specifies it is always 0\n",
    "\n",
    "to_float = lambda x: x.replace('$', '')\n",
    "\n",
    "gastos.applymap(to_float)\n",
    "    \n",
    "gastos.head()"
   ]
  }
 ],
 "metadata": {
  "kernelspec": {
   "display_name": "Python 3",
   "language": "python",
   "name": "python3"
  },
  "language_info": {
   "codemirror_mode": {
    "name": "ipython",
    "version": 3
   },
   "file_extension": ".py",
   "mimetype": "text/x-python",
   "name": "python",
   "nbconvert_exporter": "python",
   "pygments_lexer": "ipython3",
   "version": "3.11.3"
  }
 },
 "nbformat": 4,
 "nbformat_minor": 2
}
